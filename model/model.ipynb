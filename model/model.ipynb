{
 "cells": [
  {
   "cell_type": "code",
   "execution_count": 2,
   "id": "23d8131a",
   "metadata": {},
   "outputs": [
    {
     "name": "stdout",
     "output_type": "stream",
     "text": [
      "Please install `face_recognition_models` with this command before using `face_recognition`:\n",
      "\n",
      "pip install git+https://github.com/ageitgey/face_recognition_models\n"
     ]
    },
    {
     "ename": "NameError",
     "evalue": "name 'quit' is not defined",
     "output_type": "error",
     "traceback": [
      "\u001b[31m---------------------------------------------------------------------------\u001b[39m",
      "\u001b[31mModuleNotFoundError\u001b[39m                       Traceback (most recent call last)",
      "\u001b[36mFile \u001b[39m\u001b[32m~/Desktop/3cs-project-backend/.venv/lib/python3.13/site-packages/face_recognition/api.py:9\u001b[39m\n\u001b[32m      8\u001b[39m \u001b[38;5;28;01mtry\u001b[39;00m:\n\u001b[32m----> \u001b[39m\u001b[32m9\u001b[39m     \u001b[38;5;28;01mimport\u001b[39;00m\u001b[38;5;250m \u001b[39m\u001b[34;01mface_recognition_models\u001b[39;00m\n\u001b[32m     10\u001b[39m \u001b[38;5;28;01mexcept\u001b[39;00m \u001b[38;5;167;01mException\u001b[39;00m:\n",
      "\u001b[36mFile \u001b[39m\u001b[32m~/Desktop/3cs-project-backend/.venv/lib/python3.13/site-packages/face_recognition_models/__init__.py:7\u001b[39m\n\u001b[32m      5\u001b[39m __version__ = \u001b[33m'\u001b[39m\u001b[33m0.1.0\u001b[39m\u001b[33m'\u001b[39m\n\u001b[32m----> \u001b[39m\u001b[32m7\u001b[39m \u001b[38;5;28;01mfrom\u001b[39;00m\u001b[38;5;250m \u001b[39m\u001b[34;01mpkg_resources\u001b[39;00m\u001b[38;5;250m \u001b[39m\u001b[38;5;28;01mimport\u001b[39;00m resource_filename\n\u001b[32m      9\u001b[39m \u001b[38;5;28;01mdef\u001b[39;00m\u001b[38;5;250m \u001b[39m\u001b[34mpose_predictor_model_location\u001b[39m():\n",
      "\u001b[31mModuleNotFoundError\u001b[39m: No module named 'pkg_resources'",
      "\nDuring handling of the above exception, another exception occurred:\n",
      "\u001b[31mNameError\u001b[39m                                 Traceback (most recent call last)",
      "\u001b[36mCell\u001b[39m\u001b[36m \u001b[39m\u001b[32mIn[2]\u001b[39m\u001b[32m, line 1\u001b[39m\n\u001b[32m----> \u001b[39m\u001b[32m1\u001b[39m \u001b[38;5;28;01mimport\u001b[39;00m\u001b[38;5;250m \u001b[39m\u001b[34;01mface_recognition\u001b[39;00m\n\u001b[32m      2\u001b[39m \u001b[38;5;28;01mimport\u001b[39;00m\u001b[38;5;250m \u001b[39m\u001b[34;01mnumpy\u001b[39;00m\u001b[38;5;250m \u001b[39m\u001b[38;5;28;01mas\u001b[39;00m\u001b[38;5;250m \u001b[39m\u001b[34;01mnp\u001b[39;00m\n\u001b[32m      3\u001b[39m \u001b[38;5;28;01mimport\u001b[39;00m\u001b[38;5;250m \u001b[39m\u001b[34;01mos\u001b[39;00m\n",
      "\u001b[36mFile \u001b[39m\u001b[32m~/Desktop/3cs-project-backend/.venv/lib/python3.13/site-packages/face_recognition/__init__.py:7\u001b[39m\n\u001b[32m      4\u001b[39m __email__ = \u001b[33m'\u001b[39m\u001b[33mageitgey@gmail.com\u001b[39m\u001b[33m'\u001b[39m\n\u001b[32m      5\u001b[39m __version__ = \u001b[33m'\u001b[39m\u001b[33m1.2.3\u001b[39m\u001b[33m'\u001b[39m\n\u001b[32m----> \u001b[39m\u001b[32m7\u001b[39m \u001b[38;5;28;01mfrom\u001b[39;00m\u001b[38;5;250m \u001b[39m\u001b[34;01m.\u001b[39;00m\u001b[34;01mapi\u001b[39;00m\u001b[38;5;250m \u001b[39m\u001b[38;5;28;01mimport\u001b[39;00m load_image_file, face_locations, batch_face_locations, face_landmarks, face_encodings, compare_faces, face_distance\n",
      "\u001b[36mFile \u001b[39m\u001b[32m~/Desktop/3cs-project-backend/.venv/lib/python3.13/site-packages/face_recognition/api.py:13\u001b[39m\n\u001b[32m     11\u001b[39m     \u001b[38;5;28mprint\u001b[39m(\u001b[33m\"\u001b[39m\u001b[33mPlease install `face_recognition_models` with this command before using `face_recognition`:\u001b[39m\u001b[38;5;130;01m\\n\u001b[39;00m\u001b[33m\"\u001b[39m)\n\u001b[32m     12\u001b[39m     \u001b[38;5;28mprint\u001b[39m(\u001b[33m\"\u001b[39m\u001b[33mpip install git+https://github.com/ageitgey/face_recognition_models\u001b[39m\u001b[33m\"\u001b[39m)\n\u001b[32m---> \u001b[39m\u001b[32m13\u001b[39m     \u001b[43mquit\u001b[49m()\n\u001b[32m     15\u001b[39m ImageFile.LOAD_TRUNCATED_IMAGES = \u001b[38;5;28;01mTrue\u001b[39;00m\n\u001b[32m     17\u001b[39m face_detector = dlib.get_frontal_face_detector()\n",
      "\u001b[31mNameError\u001b[39m: name 'quit' is not defined"
     ]
    }
   ],
   "source": [
    "import face_recognition\n",
    "import numpy as np\n",
    "import os\n"
   ]
  },
  {
   "cell_type": "code",
   "execution_count": 5,
   "id": "4d7cf9de",
   "metadata": {},
   "outputs": [
    {
     "ename": "NameError",
     "evalue": "name 'os' is not defined",
     "output_type": "error",
     "traceback": [
      "\u001b[31m---------------------------------------------------------------------------\u001b[39m",
      "\u001b[31mNameError\u001b[39m                                 Traceback (most recent call last)",
      "\u001b[36mCell\u001b[39m\u001b[36m \u001b[39m\u001b[32mIn[5]\u001b[39m\u001b[32m, line 6\u001b[39m\n\u001b[32m      3\u001b[39m students_dir = \u001b[33m\"\u001b[39m\u001b[33mstudents/\u001b[39m\u001b[33m\"\u001b[39m   \u001b[38;5;66;03m# Directory with student images\u001b[39;00m\n\u001b[32m      5\u001b[39m \u001b[38;5;66;03m# Loop over each image file in the students directory\u001b[39;00m\n\u001b[32m----> \u001b[39m\u001b[32m6\u001b[39m \u001b[38;5;28;01mfor\u001b[39;00m filename \u001b[38;5;129;01min\u001b[39;00m \u001b[43mos\u001b[49m.listdir(students_dir):\n\u001b[32m      7\u001b[39m     \u001b[38;5;28;01mif\u001b[39;00m \u001b[38;5;129;01mnot\u001b[39;00m filename.lower().endswith(\u001b[33m\"\u001b[39m\u001b[33m.jpg\u001b[39m\u001b[33m\"\u001b[39m):\n\u001b[32m      8\u001b[39m         \u001b[38;5;28;01mcontinue\u001b[39;00m\n",
      "\u001b[31mNameError\u001b[39m: name 'os' is not defined"
     ]
    }
   ],
   "source": [
    "known_face_encodings = []\n",
    "known_face_names = []\n",
    "students_dir = \"students/\"   # Directory with student images\n",
    "\n",
    "# Loop over each image file in the students directory\n",
    "for filename in os.listdir(students_dir):\n",
    "    if not filename.lower().endswith(\".jpg\"):\n",
    "        continue\n",
    "    name = os.path.splitext(filename)[0]  # e.g. 'alice_smith'\n",
    "    image_path = os.path.join(students_dir, filename)\n",
    "    \n",
    "    # Load the student image and convert to RGB (face_recognition loads as numpy array)\n",
    "    image = face_recognition.load_image_file(image_path)\n",
    "    \n",
    "    # Detect face(s) in the image and compute encodings\n",
    "    encodings = face_recognition.face_encodings(image)\n",
    "    if len(encodings) == 0:\n",
    "        print(f\"No faces found in image {filename}; skipping.\")\n",
    "        continue\n",
    "    \n",
    "    # Assume each student image has exactly one face: take the first encoding\n",
    "    student_encoding = encodings[0]\n",
    "    known_face_encodings.append(student_encoding)\n",
    "    known_face_names.append(name)\n",
    "    print(f\"Loaded and encoded {name}\")\n"
   ]
  },
  {
   "cell_type": "code",
   "execution_count": 9,
   "id": "94906b64",
   "metadata": {},
   "outputs": [
    {
     "name": "stdout",
     "output_type": "stream",
     "text": [
      "Encodings saved to known_faces.pkl\n"
     ]
    }
   ],
   "source": [
    "import pickle\n",
    "\n",
    "# Save known encodings and names to a file for later reuse\n",
    "with open(\"known_faces.pkl\", \"wb\") as f:\n",
    "    pickle.dump((known_face_encodings, known_face_names), f)\n",
    "print(\"Encodings saved to known_faces.pkl\")\n"
   ]
  },
  {
   "cell_type": "code",
   "execution_count": 11,
   "id": "29318484",
   "metadata": {},
   "outputs": [
    {
     "name": "stdout",
     "output_type": "stream",
     "text": [
      "Detected 7 face(s) in classroom image.\n"
     ]
    }
   ],
   "source": [
    "# Load the classroom photo\n",
    "classroom_image = face_recognition.load_image_file(\"reals_test.jpg\")\n",
    "\n",
    "# Detect face locations (returns list of (top, right, bottom, left) tuples)\n",
    "face_locations = face_recognition.face_locations(classroom_image)\n",
    "\n",
    "# Compute face encodings for each detected face\n",
    "face_encodings = face_recognition.face_encodings(classroom_image, face_locations)\n",
    "\n",
    "print(f\"Detected {len(face_locations)} face(s) in classroom image.\")\n"
   ]
  },
  {
   "cell_type": "code",
   "execution_count": 12,
   "id": "099a26fc",
   "metadata": {},
   "outputs": [
    {
     "name": "stdout",
     "output_type": "stream",
     "text": [
      "Students present in class: ['faressi_madani', 'gnina_ilyes', 'fendi_mohammed', 'fendi_mohammed']\n"
     ]
    }
   ],
   "source": [
    "students_present = []  # List to hold names of recognized students\n",
    "\n",
    "for face_encoding in face_encodings:\n",
    "    # Compare this face against all known encodings\n",
    "    matches = face_recognition.compare_faces(known_face_encodings, face_encoding, tolerance=0.6)\n",
    "    name = None\n",
    "    \n",
    "    # Compute distances to all known faces and find the best match index\n",
    "    face_distances = face_recognition.face_distance(known_face_encodings, face_encoding)\n",
    "    best_match_index = np.argmin(face_distances)\n",
    "    \n",
    "    # If the best match is within the tolerance, record the name\n",
    "    if matches[best_match_index]:\n",
    "        name = known_face_names[best_match_index]\n",
    "        students_present.append(name)\n",
    "\n",
    "if students_present:\n",
    "    print(\"Students present in class:\", students_present)\n",
    "else:\n",
    "    print(\"No known students recognized in the photo.\")\n"
   ]
  }
 ],
 "metadata": {
  "kernelspec": {
   "display_name": ".venv",
   "language": "python",
   "name": "python3"
  },
  "language_info": {
   "codemirror_mode": {
    "name": "ipython",
    "version": 3
   },
   "file_extension": ".py",
   "mimetype": "text/x-python",
   "name": "python",
   "nbconvert_exporter": "python",
   "pygments_lexer": "ipython3",
   "version": "3.13.2"
  }
 },
 "nbformat": 4,
 "nbformat_minor": 5
}
